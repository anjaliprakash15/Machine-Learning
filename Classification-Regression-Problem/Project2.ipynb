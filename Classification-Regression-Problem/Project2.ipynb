{
  "nbformat": 4,
  "nbformat_minor": 0,
  "metadata": {
    "colab": {
      "provenance": []
    },
    "kernelspec": {
      "name": "python3",
      "display_name": "Python 3"
    },
    "language_info": {
      "name": "python"
    }
  },
  "cells": [
    {
      "cell_type": "code",
      "execution_count": 2,
      "metadata": {
        "id": "w4zaE20R06Cz"
      },
      "outputs": [],
      "source": [
        "import pandas as pd\n",
        "import numpy as np\n",
        "import matplotlib.pyplot as plt\n",
        "from sklearn.model_selection import train_test_split, cross_val_score, GridSearchCV\n",
        "from sklearn.impute import SimpleImputer\n",
        "from sklearn.preprocessing import StandardScaler\n",
        "from sklearn.neighbors import KNeighborsClassifier\n",
        "from sklearn.ensemble import RandomForestClassifier\n",
        "from sklearn.linear_model import LogisticRegression\n",
        "from sklearn.neural_network import MLPClassifier\n",
        "from sklearn.metrics import f1_score"
      ]
    },
    {
      "cell_type": "code",
      "source": [
        "# Load dataset\n",
        "file_path = \"nba.csv\"\n",
        "dataset = pd.read_csv(file_path)\n"
      ],
      "metadata": {
        "id": "TvuRp9xq1T-c"
      },
      "execution_count": 3,
      "outputs": []
    },
    {
      "cell_type": "code",
      "source": [
        "# Display missing values\n",
        "print(\"Missing Values:\")\n",
        "print(dataset.isnull().sum())"
      ],
      "metadata": {
        "colab": {
          "base_uri": "https://localhost:8080/"
        },
        "id": "GN6Roisa1dJR",
        "outputId": "01ded726-bec9-4b98-9a28-d57abc31c40c"
      },
      "execution_count": 4,
      "outputs": [
        {
          "output_type": "stream",
          "name": "stdout",
          "text": [
            "Missing Values:\n",
            "Name     0\n",
            "GP       0\n",
            "MIN      0\n",
            "PPT      0\n",
            "FGM      0\n",
            "FGA      0\n",
            "FG%      0\n",
            "3PM      0\n",
            "3PA      0\n",
            "3P%     11\n",
            "FTM      0\n",
            "FTA      0\n",
            "FT%      0\n",
            "OREB     0\n",
            "DREB     0\n",
            "REB      0\n",
            "AST      0\n",
            "STL      0\n",
            "BLK      0\n",
            "TOV      0\n",
            "TAR      0\n",
            "dtype: int64\n"
          ]
        }
      ]
    },
    {
      "cell_type": "code",
      "source": [
        "# Remove 'Name' column\n",
        "if 'Name' in dataset.columns:\n",
        "    dataset.drop(columns=['Name'], inplace=True)"
      ],
      "metadata": {
        "id": "2irMl9vB1guj"
      },
      "execution_count": 5,
      "outputs": []
    },
    {
      "cell_type": "code",
      "source": [
        "# Convert target variable to integer\n",
        "dataset['TAR'] = dataset['TAR'].astype(int)\n"
      ],
      "metadata": {
        "id": "6mJ8dDBB1oWh"
      },
      "execution_count": 6,
      "outputs": []
    },
    {
      "cell_type": "code",
      "source": [
        "# Handle missing values with mean imputation\n",
        "imputer = SimpleImputer(strategy='mean')\n",
        "dataset.iloc[:, :-1] = imputer.fit_transform(dataset.iloc[:, :-1])\n"
      ],
      "metadata": {
        "id": "gkKX4CBL1rna"
      },
      "execution_count": 7,
      "outputs": []
    },
    {
      "cell_type": "code",
      "source": [
        "# Define features and target\n",
        "X = dataset.drop(columns=['TAR'])\n",
        "y = dataset['TAR']"
      ],
      "metadata": {
        "id": "EkVCFuoY1xbB"
      },
      "execution_count": 8,
      "outputs": []
    },
    {
      "cell_type": "code",
      "source": [
        "# Standardize features\n",
        "scaler = StandardScaler()\n",
        "X_scaled = scaler.fit_transform(X)"
      ],
      "metadata": {
        "id": "YqGx5KXD10kg"
      },
      "execution_count": 9,
      "outputs": []
    },
    {
      "cell_type": "code",
      "source": [
        "# Split dataset into training and testing sets\n",
        "X_train, X_test, y_train, y_test = train_test_split(X_scaled, y, test_size=0.2, random_state=42)"
      ],
      "metadata": {
        "id": "51O36XrA13yl"
      },
      "execution_count": 10,
      "outputs": []
    },
    {
      "cell_type": "code",
      "source": [
        "# KNN Model\n",
        "knn = KNeighborsClassifier(n_neighbors=5)\n",
        "knn_cv_scores = cross_val_score(knn, X_train, y_train, cv=10, scoring='f1')\n",
        "knn.fit(X_train, y_train)\n",
        "y_pred_knn = knn.predict(X_test)\n",
        "print(\"KNN Avg F1 Score (CV):\", knn_cv_scores.mean())\n",
        "print(\"KNN F1 Score (Test):\", f1_score(y_test, y_pred_knn))"
      ],
      "metadata": {
        "colab": {
          "base_uri": "https://localhost:8080/"
        },
        "id": "GSxt8-HL19Rr",
        "outputId": "3be519ef-6e50-45d0-fb2f-166adc749c9b"
      },
      "execution_count": 11,
      "outputs": [
        {
          "output_type": "stream",
          "name": "stdout",
          "text": [
            "KNN Avg F1 Score (CV): 0.714671636036298\n",
            "KNN F1 Score (Test): 0.7597765363128491\n"
          ]
        }
      ]
    },
    {
      "cell_type": "code",
      "source": [
        "# Random Forest Model\n",
        "rf = RandomForestClassifier(n_estimators=100, random_state=42)\n",
        "rf_cv_scores = cross_val_score(rf, X_train, y_train, cv=10, scoring='f1')\n",
        "rf.fit(X_train, y_train)\n",
        "y_pred_rf = rf.predict(X_test)\n",
        "print(\"Random Forest Avg F1 Score (CV):\", rf_cv_scores.mean())\n",
        "print(\"Random Forest F1 Score (Test):\", f1_score(y_test, y_pred_rf))\n"
      ],
      "metadata": {
        "colab": {
          "base_uri": "https://localhost:8080/"
        },
        "id": "23Z3iBLW2BrE",
        "outputId": "c4625548-c42c-46e6-beea-76a38ee58eb0"
      },
      "execution_count": 12,
      "outputs": [
        {
          "output_type": "stream",
          "name": "stdout",
          "text": [
            "Random Forest Avg F1 Score (CV): 0.7456895318616505\n",
            "Random Forest F1 Score (Test): 0.776536312849162\n"
          ]
        }
      ]
    },
    {
      "cell_type": "code",
      "source": [
        "# Logistic Regression with Regularization\n",
        "regularization_options = [None, 'l1', 'l2', 'elasticnet']\n",
        "best_f1 = 0\n",
        "best_penalty = None\n",
        "\n",
        "for reg in regularization_options:\n",
        "    solver = 'saga' if reg == 'elasticnet' else 'liblinear' if reg in ['l1', 'l2'] else 'lbfgs'\n",
        "    l1_ratio = 0.5 if reg == 'elasticnet' else None\n",
        "\n",
        "    log_reg = LogisticRegression(penalty=reg, solver=solver, l1_ratio=l1_ratio, max_iter=500)\n",
        "    log_reg.fit(X_train, y_train)\n",
        "    y_pred_log = log_reg.predict(X_test)\n",
        "    f1 = f1_score(y_test, y_pred_log)\n",
        "    print(f\"Logistic Regression ({reg}) F1 Score:\", f1)\n",
        "\n",
        "    if f1 > best_f1:\n",
        "        best_f1 = f1\n",
        "        best_penalty = reg\n",
        "\n",
        "print(f\"Optimal Logistic Regression Penalty: {best_penalty}, F1 Score: {best_f1}\")"
      ],
      "metadata": {
        "colab": {
          "base_uri": "https://localhost:8080/"
        },
        "id": "qjI0OeCY2GuI",
        "outputId": "26c6f26c-95e5-4332-f28a-100312249377"
      },
      "execution_count": 13,
      "outputs": [
        {
          "output_type": "stream",
          "name": "stdout",
          "text": [
            "Logistic Regression (None) F1 Score: 0.8011049723756906\n",
            "Logistic Regression (l1) F1 Score: 0.8011049723756906\n",
            "Logistic Regression (l2) F1 Score: 0.8055555555555556\n",
            "Logistic Regression (elasticnet) F1 Score: 0.8011049723756906\n",
            "Optimal Logistic Regression Penalty: l2, F1 Score: 0.8055555555555556\n"
          ]
        }
      ]
    },
    {
      "cell_type": "code",
      "source": [
        "# ANN Model\n",
        "ann = MLPClassifier(hidden_layer_sizes=(64, 32), max_iter=2000, solver='adam', learning_rate_init=0.001, early_stopping=True, random_state=42)\n",
        "ann_cv_scores = cross_val_score(ann, X_train, y_train, cv=10, scoring='f1')\n",
        "ann.fit(X_train, y_train)\n",
        "y_pred_ann = ann.predict(X_test)\n",
        "print(\"ANN Avg F1 Score (CV):\", ann_cv_scores.mean())\n",
        "print(\"ANN F1 Score (Test):\", f1_score(y_test, y_pred_ann))"
      ],
      "metadata": {
        "colab": {
          "base_uri": "https://localhost:8080/"
        },
        "id": "-EcLPbYT3aTy",
        "outputId": "a57144d0-c12f-4d6a-99d6-9641c281c5f7"
      },
      "execution_count": 14,
      "outputs": [
        {
          "output_type": "stream",
          "name": "stdout",
          "text": [
            "ANN Avg F1 Score (CV): 0.7636576433194386\n",
            "ANN F1 Score (Test): 0.7811634349030471\n"
          ]
        }
      ]
    },
    {
      "cell_type": "code",
      "source": [
        "# Random Forest Hyperparameter Tuning\n",
        "rf_grid = {'n_estimators': [50, 100, 200]}\n",
        "grid_search = GridSearchCV(RandomForestClassifier(random_state=42), rf_grid, cv=5, scoring='f1')\n",
        "grid_search.fit(X_train, y_train)\n",
        "print(\"Optimal RF Parameters:\", grid_search.best_params_)\n",
        "print(\"Optimal RF F1 Score (CV):\", grid_search.best_score_)"
      ],
      "metadata": {
        "colab": {
          "base_uri": "https://localhost:8080/"
        },
        "id": "E99c42RB3era",
        "outputId": "15d6c8b9-5e49-4deb-ddc7-57dbea023b7b"
      },
      "execution_count": 15,
      "outputs": [
        {
          "output_type": "stream",
          "name": "stdout",
          "text": [
            "Optimal RF Parameters: {'n_estimators': 200}\n",
            "Optimal RF F1 Score (CV): 0.7413334277876062\n"
          ]
        }
      ]
    },
    {
      "cell_type": "code",
      "source": [
        "# Model Performance Visualization\n",
        "models = ['KNN', 'Random Forest', 'Logistic Regression', 'ANN']\n",
        "f1_scores = [\n",
        "    f1_score(y_test, y_pred_knn),\n",
        "    f1_score(y_test, y_pred_rf),\n",
        "    best_f1,\n",
        "    f1_score(y_test, y_pred_ann)\n",
        "]\n",
        "plt.bar(models, f1_scores, color=['green', 'yellow', 'red', 'pink'])\n",
        "plt.xlabel(\"Models\")\n",
        "plt.ylabel(\"F1 Score\")\n",
        "plt.title(\"Model Performance Comparison\")\n",
        "plt.show()\n"
      ],
      "metadata": {
        "colab": {
          "base_uri": "https://localhost:8080/",
          "height": 472
        },
        "id": "r_3MRDXG3j0W",
        "outputId": "53195e8e-baf6-4fd7-974a-223e71423362"
      },
      "execution_count": 16,
      "outputs": [
        {
          "output_type": "display_data",
          "data": {
            "text/plain": [
              "<Figure size 640x480 with 1 Axes>"
            ],
            "image/png": "[encoded data removed]"
          },
          "metadata": {}
        }
      ]
    }
  ]
}